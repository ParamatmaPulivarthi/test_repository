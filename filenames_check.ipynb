{
 "cells": [
  {
   "cell_type": "code",
   "execution_count": 4,
   "id": "7d63a299",
   "metadata": {},
   "outputs": [
    {
     "name": "stdout",
     "output_type": "stream",
     "text": [
      "the first name is ravi\n"
     ]
    }
   ],
   "source": [
    "print(\"the first name is ravi\")"
   ]
  },
  {
   "cell_type": "code",
   "execution_count": 3,
   "id": "e4099458",
   "metadata": {},
   "outputs": [
    {
     "name": "stdout",
     "output_type": "stream",
     "text": [
      "the second name is raju\n"
     ]
    }
   ],
   "source": [
    "print(\"the second name is raju\")"
   ]
  },
  {
   "cell_type": "code",
   "execution_count": 5,
   "id": "5928dfcf",
   "metadata": {},
   "outputs": [
    {
     "name": "stdout",
     "output_type": "stream",
     "text": [
      "the 3rd name is raghu\n"
     ]
    }
   ],
   "source": [
    "print(\"the 3rd name is raghu\")"
   ]
  },
  {
   "cell_type": "code",
   "execution_count": null,
   "id": "d8b2f1af",
   "metadata": {},
   "outputs": [],
   "source": [
    "...."
   ]
  },
  {
   "cell_type": "code",
   "execution_count": 6,
   "id": "97c9c26f",
   "metadata": {},
   "outputs": [
    {
     "name": "stdout",
     "output_type": "stream",
     "text": [
      "the 10th name is rakesh\n"
     ]
    }
   ],
   "source": [
    "print(\"the 10th name is rakesh\")"
   ]
  },
  {
   "cell_type": "code",
   "execution_count": null,
   "id": "5ae29861",
   "metadata": {},
   "outputs": [],
   "source": []
  }
 ],
 "metadata": {
  "kernelspec": {
   "display_name": "Python 3 (ipykernel)",
   "language": "python",
   "name": "python3"
  },
  "language_info": {
   "codemirror_mode": {
    "name": "ipython",
    "version": 3
   },
   "file_extension": ".py",
   "mimetype": "text/x-python",
   "name": "python",
   "nbconvert_exporter": "python",
   "pygments_lexer": "ipython3",
   "version": "3.10.9"
  }
 },
 "nbformat": 4,
 "nbformat_minor": 5
}
