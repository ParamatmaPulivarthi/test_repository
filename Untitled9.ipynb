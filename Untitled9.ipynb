{
 "cells": [
  {
   "cell_type": "code",
   "execution_count": 2,
   "id": "b6baa2d3",
   "metadata": {},
   "outputs": [
    {
     "name": "stdout",
     "output_type": "stream",
     "text": [
      "2023-09-01 15:59:36.072928\n"
     ]
    }
   ],
   "source": [
    "import datetime\n",
    "NextDay_Date = datetime.datetime.today() + datetime.timedelta(days=)\n",
    "print (NextDay_Date)"
   ]
  },
  {
   "cell_type": "code",
   "execution_count": null,
   "id": "925eb533",
   "metadata": {},
   "outputs": [],
   "source": [
    "print(\" this is my new code\")\n",
    "print(\" this is my new code v1\")\n",
    "print(\" this is my new code v2\")"
   ]
  }
 ],
 "metadata": {
  "kernelspec": {
   "display_name": "Python 3 (ipykernel)",
   "language": "python",
   "name": "python3"
  },
  "language_info": {
   "codemirror_mode": {
    "name": "ipython",
    "version": 3
   },
   "file_extension": ".py",
   "mimetype": "text/x-python",
   "name": "python",
   "nbconvert_exporter": "python",
   "pygments_lexer": "ipython3",
   "version": "3.10.9"
  }
 },
 "nbformat": 4,
 "nbformat_minor": 5
}


test of this file
