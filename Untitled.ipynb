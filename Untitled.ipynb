{
 "cells": [
  {
   "cell_type": "code",
   "execution_count": 1,
   "id": "801f43d6",
   "metadata": {},
   "outputs": [
    {
     "name": "stdout",
     "output_type": "stream",
     "text": [
      "hello world\n"
     ]
    }
   ],
   "source": [
    "print(\"hello world\")"
   ]
  },
  {
   "cell_type": "code",
   "execution_count": 2,
   "id": "3cdb0b12",
   "metadata": {},
   "outputs": [],
   "source": [
    "import pandas as pd\n",
    "import numpy as np"
   ]
  },
  {
   "cell_type": "code",
   "execution_count": null,
   "id": "93002611",
   "metadata": {},
   "outputs": [],
   "source": [
    "#pandas.DataFrame.loc[]"
   ]
  },
  {
   "cell_type": "code",
   "execution_count": 31,
   "id": "151b7bed",
   "metadata": {},
   "outputs": [
    {
     "name": "stdout",
     "output_type": "stream",
     "text": [
      "    Courses    Fee Duration  Discount\n",
      "r1    Spark  20000    30day      1000\n",
      "r2  PySpark  25000   40days      2300\n",
      "r3   Hadoop  26000   35days      1200\n",
      "r4   Python  22000   40days      2500\n",
      "r5   pandas  24000   60days      2000\n"
     ]
    }
   ],
   "source": [
    "\n",
    "# Pandas.DataFrame.loc[] Syntax & Usage\n",
    "import pandas as pd\n",
    "technologies = {\n",
    "    'Courses':[\"Spark\",\"PySpark\",\"Hadoop\",\"Python\",\"pandas\"],\n",
    "    'Fee' :[20000,25000,26000,22000,24000],\n",
    "    'Duration':['30day','40days','35days','40days','60days'],\n",
    "    'Discount':[1000,2300,1200,2500,2000]\n",
    "              }\n",
    "index_labels=['r1','r2','r3','r4','r5']\n",
    "df = pd.DataFrame(technologies,index=index_labels)\n",
    "print(df)"
   ]
  },
  {
   "cell_type": "code",
   "execution_count": 51,
   "id": "ae6c98cf",
   "metadata": {},
   "outputs": [
    {
     "data": {
      "text/html": [
       "<div>\n",
       "<style scoped>\n",
       "    .dataframe tbody tr th:only-of-type {\n",
       "        vertical-align: middle;\n",
       "    }\n",
       "\n",
       "    .dataframe tbody tr th {\n",
       "        vertical-align: top;\n",
       "    }\n",
       "\n",
       "    .dataframe thead th {\n",
       "        text-align: right;\n",
       "    }\n",
       "</style>\n",
       "<table border=\"1\" class=\"dataframe\">\n",
       "  <thead>\n",
       "    <tr style=\"text-align: right;\">\n",
       "      <th></th>\n",
       "      <th>Courses</th>\n",
       "      <th>Fee</th>\n",
       "      <th>Duration</th>\n",
       "      <th>Discount</th>\n",
       "      <th>anu</th>\n",
       "    </tr>\n",
       "  </thead>\n",
       "  <tbody>\n",
       "    <tr>\n",
       "      <th>r1</th>\n",
       "      <td>Spark</td>\n",
       "      <td>20000</td>\n",
       "      <td>30day</td>\n",
       "      <td>1000</td>\n",
       "      <td>28000</td>\n",
       "    </tr>\n",
       "    <tr>\n",
       "      <th>r2</th>\n",
       "      <td>PySpark</td>\n",
       "      <td>25000</td>\n",
       "      <td>40days</td>\n",
       "      <td>2300</td>\n",
       "      <td>2000</td>\n",
       "    </tr>\n",
       "    <tr>\n",
       "      <th>r3</th>\n",
       "      <td>Hadoop</td>\n",
       "      <td>26000</td>\n",
       "      <td>35days</td>\n",
       "      <td>1200</td>\n",
       "      <td>2000</td>\n",
       "    </tr>\n",
       "    <tr>\n",
       "      <th>r4</th>\n",
       "      <td>Python</td>\n",
       "      <td>22000</td>\n",
       "      <td>40days</td>\n",
       "      <td>2500</td>\n",
       "      <td>7990</td>\n",
       "    </tr>\n",
       "    <tr>\n",
       "      <th>r5</th>\n",
       "      <td>pandas</td>\n",
       "      <td>24000</td>\n",
       "      <td>60days</td>\n",
       "      <td>2000</td>\n",
       "      <td>8000</td>\n",
       "    </tr>\n",
       "  </tbody>\n",
       "</table>\n",
       "</div>"
      ],
      "text/plain": [
       "    Courses    Fee Duration  Discount    anu\n",
       "r1    Spark  20000    30day      1000  28000\n",
       "r2  PySpark  25000   40days      2300   2000\n",
       "r3   Hadoop  26000   35days      1200   2000\n",
       "r4   Python  22000   40days      2500   7990\n",
       "r5   pandas  24000   60days      2000   8000"
      ]
     },
     "execution_count": 51,
     "metadata": {},
     "output_type": "execute_result"
    }
   ],
   "source": [
    "df[\"anu\"]=\"\"\n",
    "df['anu']=[28000,2000,2000,7990,8000]\n",
    "df"
   ]
  },
  {
   "cell_type": "code",
   "execution_count": 32,
   "id": "cc056d78",
   "metadata": {},
   "outputs": [
    {
     "name": "stdout",
     "output_type": "stream",
     "text": [
      "Courses     PySpark\n",
      "Fee           25000\n",
      "Duration     40days\n",
      "Discount       2300\n",
      "Name: r2, dtype: object\n"
     ]
    }
   ],
   "source": [
    "\n",
    "# Select Single Row by Label\n",
    "print(df.loc['r2'])"
   ]
  },
  {
   "cell_type": "code",
   "execution_count": 33,
   "id": "a7635093",
   "metadata": {},
   "outputs": [
    {
     "name": "stdout",
     "output_type": "stream",
     "text": [
      "r1      Spark\n",
      "r2    PySpark\n",
      "r3     Hadoop\n",
      "r4     Python\n",
      "r5     pandas\n",
      "Name: Courses, dtype: object\n"
     ]
    }
   ],
   "source": [
    "\n",
    "# Select Single Column by label\n",
    "print(df.loc[:, \"Courses\"])"
   ]
  },
  {
   "cell_type": "code",
   "execution_count": 34,
   "id": "97e4a544",
   "metadata": {},
   "outputs": [
    {
     "name": "stdout",
     "output_type": "stream",
     "text": [
      "    Courses    Fee Duration  Discount\n",
      "r2  PySpark  25000   40days      2300\n",
      "r3   Hadoop  26000   35days      1200\n"
     ]
    }
   ],
   "source": [
    "# Select Multiple Rows by Label\n",
    "print(df.loc[['r2','r3']])"
   ]
  },
  {
   "cell_type": "code",
   "execution_count": 35,
   "id": "074d1678",
   "metadata": {},
   "outputs": [
    {
     "name": "stdout",
     "output_type": "stream",
     "text": [
      "    Courses    Fee  Discount\n",
      "r1    Spark  20000      1000\n",
      "r2  PySpark  25000      2300\n",
      "r3   Hadoop  26000      1200\n",
      "r4   Python  22000      2500\n",
      "r5   pandas  24000      2000\n"
     ]
    }
   ],
   "source": [
    "\n",
    "# Select Multiple Columns by labels\n",
    "print(df.loc[:, [\"Courses\",\"Fee\",\"Discount\"]])"
   ]
  },
  {
   "cell_type": "code",
   "execution_count": 38,
   "id": "1c3360c7",
   "metadata": {},
   "outputs": [
    {
     "name": "stdout",
     "output_type": "stream",
     "text": [
      "    Courses    Fee Duration  Discount\n",
      "r1    Spark  20000    30day      1000\n",
      "r2  PySpark  25000   40days      2300\n",
      "r3   Hadoop  26000   35days      1200\n",
      "r4   Python  22000   40days      2500\n"
     ]
    }
   ],
   "source": [
    "# Select Rows Between two Index Labels\n",
    "# Includes both r1 and r4 rows\n",
    "print(df.loc['r1':'r4'])"
   ]
  },
  {
   "cell_type": "code",
   "execution_count": 39,
   "id": "3529a178",
   "metadata": {},
   "outputs": [
    {
     "name": "stdout",
     "output_type": "stream",
     "text": [
      "      Fee Duration  Discount\n",
      "r1  20000    30day      1000\n",
      "r2  25000   40days      2300\n",
      "r3  26000   35days      1200\n",
      "r4  22000   40days      2500\n",
      "r5  24000   60days      2000\n"
     ]
    }
   ],
   "source": [
    "\n",
    "# Select Columns between two Labels\n",
    "# Include both 'Fee' and 'Discount' columns\n",
    "print(df.loc[:,'Fee':'Discount'])\n"
   ]
  },
  {
   "cell_type": "code",
   "execution_count": 40,
   "id": "68b64bde",
   "metadata": {},
   "outputs": [
    {
     "name": "stdout",
     "output_type": "stream",
     "text": [
      "   Courses    Fee Duration  Discount\n",
      "r1   Spark  20000    30day      1000\n",
      "r3  Hadoop  26000   35days      1200\n"
     ]
    }
   ],
   "source": [
    "\n",
    "# Select Alternate rows By indeces\n",
    "print(df.loc['r1':'r4':2])\n"
   ]
  },
  {
   "cell_type": "code",
   "execution_count": 41,
   "id": "87d0fa59",
   "metadata": {},
   "outputs": [
    {
     "name": "stdout",
     "output_type": "stream",
     "text": [
      "      Fee  Discount\n",
      "r1  20000      1000\n",
      "r2  25000      2300\n",
      "r3  26000      1200\n",
      "r4  22000      2500\n",
      "r5  24000      2000\n"
     ]
    }
   ],
   "source": [
    "\n",
    "# Select Alternate Columns between two Labels\n",
    "print(df.loc[:,'Fee':'Discount':2])"
   ]
  },
  {
   "cell_type": "code",
   "execution_count": 42,
   "id": "6148236b",
   "metadata": {},
   "outputs": [
    {
     "name": "stdout",
     "output_type": "stream",
     "text": [
      "    Courses    Fee Duration  Discount\n",
      "r2  PySpark  25000   40days      2300\n",
      "r3   Hadoop  26000   35days      1200\n",
      "r5   pandas  24000   60days      2000\n"
     ]
    }
   ],
   "source": [
    "# Using Conditions\n",
    "print(df.loc[df['Fee'] >= 24000])\n"
   ]
  },
  {
   "cell_type": "code",
   "execution_count": 43,
   "id": "1c61b0c1",
   "metadata": {},
   "outputs": [
    {
     "name": "stdout",
     "output_type": "stream",
     "text": [
      "    Courses    Fee Duration  Discount\n",
      "r1    Spark  20000    30day      1000\n",
      "r2  PySpark  25000   40days      2300\n",
      "r3   Hadoop  26000   35days      1200\n",
      "r4   Python  22000   40days      2500\n",
      "r5   pandas  24000   60days      2000\n",
      "Courses     PySpark\n",
      "Fee           25000\n",
      "Duration     40days\n",
      "Discount       2300\n",
      "Name: r2, dtype: object\n",
      "r1      Spark\n",
      "r2    PySpark\n",
      "r3     Hadoop\n",
      "r4     Python\n",
      "r5     pandas\n",
      "Name: Courses, dtype: object\n",
      "    Courses    Fee Duration  Discount\n",
      "r2  PySpark  25000   40days      2300\n",
      "r3   Hadoop  26000   35days      1200\n",
      "    Courses    Fee  Discount\n",
      "r1    Spark  20000      1000\n",
      "r2  PySpark  25000      2300\n",
      "r3   Hadoop  26000      1200\n",
      "r4   Python  22000      2500\n",
      "r5   pandas  24000      2000\n",
      "    Courses    Fee Duration  Discount\n",
      "r1    Spark  20000    30day      1000\n",
      "r2  PySpark  25000   40days      2300\n",
      "r3   Hadoop  26000   35days      1200\n",
      "r4   Python  22000   40days      2500\n",
      "      Fee Duration  Discount\n",
      "r1  20000    30day      1000\n",
      "r2  25000   40days      2300\n",
      "r3  26000   35days      1200\n",
      "r4  22000   40days      2500\n",
      "r5  24000   60days      2000\n",
      "   Courses    Fee Duration  Discount\n",
      "r1   Spark  20000    30day      1000\n",
      "r3  Hadoop  26000   35days      1200\n",
      "      Fee  Discount\n",
      "r1  20000      1000\n",
      "r2  25000      2300\n",
      "r3  26000      1200\n",
      "r4  22000      2500\n",
      "r5  24000      2000\n",
      "    Courses    Fee Duration  Discount\n",
      "r2  PySpark  25000   40days      2300\n",
      "r3   Hadoop  26000   35days      1200\n",
      "r5   pandas  24000   60days      2000\n"
     ]
    }
   ],
   "source": [
    "\n",
    "# Examples of pandas DataFrame loc\n",
    "import pandas as pd\n",
    "technologies = {\n",
    "    'Courses':[\"Spark\",\"PySpark\",\"Hadoop\",\"Python\",\"pandas\"],\n",
    "    'Fee' :[20000,25000,26000,22000,24000],\n",
    "    'Duration':['30day','40days','35days','40days','60days'],\n",
    "    'Discount':[1000,2300,1200,2500,2000]\n",
    "              }\n",
    "index_labels=['r1','r2','r3','r4','r5']\n",
    "df = pd.DataFrame(technologies,index=index_labels)\n",
    "print(df)\n",
    "\n",
    "# Select single Row\n",
    "print(df.loc['r2'])\n",
    "\n",
    "# Select Single Column by label\n",
    "print(df.loc[:, \"Courses\"])\n",
    "\n",
    "# Select Multiple Rows by Label\n",
    "print(df.loc[['r2','r3']])\n",
    "\n",
    "# Select Multiple Columns by labels\n",
    "print(df.loc[:, [\"Courses\",\"Fee\",\"Discount\"]])\n",
    "\n",
    "# Select Rows Between two Index Labels\n",
    "# Includes both r1 and r4 rows\n",
    "print(df.loc['r1':'r4'])\n",
    "\n",
    "# Select Columns between two Labels\n",
    "# Includes both 'Fee' and 'Discount' columns\n",
    "print(df.loc[:,'Fee':'Discount'])\n",
    "\n",
    "# Select Alternate rows By indeces\n",
    "print(df.loc['r1':'r4':2])\n",
    "\n",
    "# Select Alternate Columns between two Labels\n",
    "print(df.loc[:,'Fee':'Discount':2])\n",
    "\n",
    "# Using Conditions\n",
    "print(df.loc[df['Fee'] >= 24000])"
   ]
  },
  {
   "cell_type": "code",
   "execution_count": null,
   "id": "0b80fa9c",
   "metadata": {},
   "outputs": [],
   "source": []
  }
 ],
 "metadata": {
  "kernelspec": {
   "display_name": "Python 3 (ipykernel)",
   "language": "python",
   "name": "python3"
  },
  "language_info": {
   "codemirror_mode": {
    "name": "ipython",
    "version": 3
   },
   "file_extension": ".py",
   "mimetype": "text/x-python",
   "name": "python",
   "nbconvert_exporter": "python",
   "pygments_lexer": "ipython3",
   "version": "3.10.9"
  }
 },
 "nbformat": 4,
 "nbformat_minor": 5
}
